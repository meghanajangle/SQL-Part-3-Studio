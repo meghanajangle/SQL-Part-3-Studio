{
    "metadata": {
        "kernelspec": {
            "name": "SQL",
            "display_name": "SQL",
            "language": "sql"
        },
        "language_info": {
            "name": "sql",
            "version": ""
        },
        "extensions": {
            "azuredatastudio": {
                "version": 1,
                "views": []
            }
        }
    },
    "nbformat_minor": 2,
    "nbformat": 4,
    "cells": [
        {
            "cell_type": "markdown",
            "source": [
                "# SQL Part 3 Studio\n",
                "\n",
                "### Let's practice your SQL quering skills!  For each question, work along in the notebook adding your query and answering the questions. \n",
                "\n",
                "### **DataSet**\n",
                "\n",
                "### <span style=\"font-size: 14px; font-family: -apple-system, BlinkMacSystemFont, sans-serif;\">We will be using the Goodbooks-10k dataset from the exercises in the prep work.&nbsp; Feel free reference your previous notebooks.</span>\n",
                "\n",
                "- The dataset can be found here: [goodbooks-10k](https://www.kaggle.com/zygmunt/goodbooks-10k)\n",
                "- You can access the **BooksDB** in the Launchcode server.\n",
                "\n",
                "### **Business Issue**\n",
                "\n",
                "You are an employee at a small independet bookstore and you have been tasked to increase sales.  You decide to use the BooksDB to find books and themes to highlight in fun promotions throughout each month / season.  We will be starting with March and then you will have a chance to explore another month of your choosing.  We want to come up with a list of events/ promotions to run each month.  If you are looking for ideas to include in your promotions:\n",
                "\n",
                "- [https://www.calendarr.com/united-states/calendar-2022/](https://www.calendarr.com/united-states/calendar-2022/)\n",
                "- [https://www.holidayinsights.com/moreholidays/](https://www.holidayinsights.com/moreholidays/)\n",
                "    - Click on a month and it will take you to a more detailed page"
            ],
            "metadata": {
                "azdata_cell_guid": "b9034d8a-b631-48bf-a895-1012a6ffa784"
            },
            "attachments": {}
        },
        {
            "cell_type": "markdown",
            "source": [
                "## Part 1:  March - Women's History Month, Dr Seuss Day(3/2), National Pie Day3/14, St Patrick's Day (3/17), Season - Spring"
            ],
            "metadata": {
                "azdata_cell_guid": "6e55eb1c-4a14-4076-90d2-95ed17a6309f"
            },
            "attachments": {}
        },
        {
            "cell_type": "markdown",
            "source": [
                "### **Event 1:** Women's History Month\n",
                "\n",
                "Goal: Highlight Popular Womans Authors based on ratings from the Good Reads DB.\n",
                "\n",
                "### **Write a query that returns tag\\_id, the number of times each tag\\_id is used and the tag\\_name.**  \n",
                "\n",
                "### Use the GROUP BY and HAVING clause to narrow your focus.\n",
                "\n",
                "Try multiple keywords, ie woman vs female (female ended up giving better results)"
            ],
            "metadata": {
                "azdata_cell_guid": "d220c097-e9cf-4edd-9abe-312d071217b7"
            },
            "attachments": {}
        },
        {
            "cell_type": "code",
            "source": [
                "-- solution \r\n",
                "SELECT COUNT(bt.tag_id) AS \"Number of Times Tag used\", t.tag_name, bt.tag_id\r\n",
                "FROM booksDB.dbo.book_tags as bt\r\n",
                "JOIN booksDB.dbo.tags as t \r\n",
                "ON bt.tag_id = t.tag_id\r\n",
                "GROUP BY t.tag_name, bt.tag_id\r\n",
                "HAVING t.tag_name like ('%woman%')\r\n",
                "ORDER BY COUNT(bt.tag_id) DESC"
            ],
            "metadata": {
                "azdata_cell_guid": "e31b9d26-0386-44c7-828e-85f4f06f3ee6",
                "language": "sql",
                "tags": []
            },
            "outputs": [
                {
                    "output_type": "display_data",
                    "data": {
                        "text/html": "(24 rows affected)"
                    },
                    "metadata": {}
                },
                {
                    "output_type": "display_data",
                    "data": {
                        "text/html": "Total execution time: 00:00:00.371"
                    },
                    "metadata": {}
                },
                {
                    "output_type": "execute_result",
                    "metadata": {},
                    "execution_count": 16,
                    "data": {
                        "application/vnd.dataresource+json": {
                            "schema": {
                                "fields": [
                                    {
                                        "name": "Number of Times Tag used"
                                    },
                                    {
                                        "name": "tag_name"
                                    },
                                    {
                                        "name": "tag_id"
                                    }
                                ]
                            },
                            "data": [
                                {
                                    "0": "14",
                                    "1": "woman-s-murder-club",
                                    "2": "32681"
                                },
                                {
                                    "0": "10",
                                    "1": "womanhood",
                                    "2": "32683"
                                },
                                {
                                    "0": "8",
                                    "1": "man-woman",
                                    "2": "19038"
                                },
                                {
                                    "0": "8",
                                    "1": "womans-murder-club",
                                    "2": "32685"
                                },
                                {
                                    "0": "6",
                                    "1": "biblical-womanhood",
                                    "2": "4455"
                                },
                                {
                                    "0": "5",
                                    "1": "older-man-younger-woman",
                                    "2": "22269"
                                },
                                {
                                    "0": "4",
                                    "1": "older-woman-younger-man",
                                    "2": "22271"
                                },
                                {
                                    "0": "4",
                                    "1": "wonder-woman",
                                    "2": "32740"
                                },
                                {
                                    "0": "2",
                                    "1": "books-every-woman-should-read",
                                    "2": "5132"
                                },
                                {
                                    "0": "2",
                                    "1": "christian-woman",
                                    "2": "7194"
                                },
                                {
                                    "0": "2",
                                    "1": "pioneer-woman",
                                    "2": "23671"
                                },
                                {
                                    "0": "2",
                                    "1": "woman-s-fiction",
                                    "2": "32680"
                                },
                                {
                                    "0": "1",
                                    "1": "21-books-every-woman-should-read",
                                    "2": "937"
                                },
                                {
                                    "0": "1",
                                    "1": "a-woman-after-god-s-own-heart",
                                    "2": "1386"
                                },
                                {
                                    "0": "1",
                                    "1": "a-woman-after-gods-own-heart",
                                    "2": "1387"
                                },
                                {
                                    "0": "1",
                                    "1": "batwoman",
                                    "2": "4006"
                                },
                                {
                                    "0": "1",
                                    "1": "black-ops-woman-team-cia-sean-case",
                                    "2": "4729"
                                },
                                {
                                    "0": "1",
                                    "1": "every-woman-should-read",
                                    "2": "10986"
                                },
                                {
                                    "0": "1",
                                    "1": "memorable-woman-characters",
                                    "2": "19757"
                                },
                                {
                                    "0": "1",
                                    "1": "older-woman",
                                    "2": "22270"
                                },
                                {
                                    "0": "1",
                                    "1": "policewoman-potential-victim",
                                    "2": "23891"
                                },
                                {
                                    "0": "1",
                                    "1": "woman-author",
                                    "2": "32679"
                                },
                                {
                                    "0": "1",
                                    "1": "woman-trans-agender-authors",
                                    "2": "32682"
                                },
                                {
                                    "0": "1",
                                    "1": "womans-literature",
                                    "2": "32684"
                                }
                            ]
                        },
                        "text/html": [
                            "<table>",
                            "<tr><th>Number of Times Tag used</th><th>tag_name</th><th>tag_id</th></tr>",
                            "<tr><td>14</td><td>woman-s-murder-club</td><td>32681</td></tr>",
                            "<tr><td>10</td><td>womanhood</td><td>32683</td></tr>",
                            "<tr><td>8</td><td>man-woman</td><td>19038</td></tr>",
                            "<tr><td>8</td><td>womans-murder-club</td><td>32685</td></tr>",
                            "<tr><td>6</td><td>biblical-womanhood</td><td>4455</td></tr>",
                            "<tr><td>5</td><td>older-man-younger-woman</td><td>22269</td></tr>",
                            "<tr><td>4</td><td>older-woman-younger-man</td><td>22271</td></tr>",
                            "<tr><td>4</td><td>wonder-woman</td><td>32740</td></tr>",
                            "<tr><td>2</td><td>books-every-woman-should-read</td><td>5132</td></tr>",
                            "<tr><td>2</td><td>christian-woman</td><td>7194</td></tr>",
                            "<tr><td>2</td><td>pioneer-woman</td><td>23671</td></tr>",
                            "<tr><td>2</td><td>woman-s-fiction</td><td>32680</td></tr>",
                            "<tr><td>1</td><td>21-books-every-woman-should-read</td><td>937</td></tr>",
                            "<tr><td>1</td><td>a-woman-after-god-s-own-heart</td><td>1386</td></tr>",
                            "<tr><td>1</td><td>a-woman-after-gods-own-heart</td><td>1387</td></tr>",
                            "<tr><td>1</td><td>batwoman</td><td>4006</td></tr>",
                            "<tr><td>1</td><td>black-ops-woman-team-cia-sean-case</td><td>4729</td></tr>",
                            "<tr><td>1</td><td>every-woman-should-read</td><td>10986</td></tr>",
                            "<tr><td>1</td><td>memorable-woman-characters</td><td>19757</td></tr>",
                            "<tr><td>1</td><td>older-woman</td><td>22270</td></tr>",
                            "<tr><td>1</td><td>policewoman-potential-victim</td><td>23891</td></tr>",
                            "<tr><td>1</td><td>woman-author</td><td>32679</td></tr>",
                            "<tr><td>1</td><td>woman-trans-agender-authors</td><td>32682</td></tr>",
                            "<tr><td>1</td><td>womans-literature</td><td>32684</td></tr>",
                            "</table>"
                        ]
                    }
                }
            ],
            "execution_count": 16
        },
        {
            "cell_type": "markdown",
            "source": [
                "### **Which keyword(s) and tag(s) would you like to explore more?**\n",
                "\n",
                "wonder -32740\n",
                "\n",
                "pioneer - 23671\n",
                "\n",
                "memorable - 19757"
            ],
            "metadata": {
                "azdata_cell_guid": "e9acd8b5-a62b-4ac0-bd07-19915b379ba6"
            },
            "attachments": {}
        },
        {
            "cell_type": "markdown",
            "source": [
                "### **Write a query to return authors, titles, ratings and** **selected tag(s)\\_id.**"
            ],
            "metadata": {
                "azdata_cell_guid": "59b84464-c0bc-4dac-9e02-0c803765b063"
            },
            "attachments": {}
        },
        {
            "cell_type": "code",
            "source": [
                "-- Solution\r\n",
                "SELECT b.authors, b.title, b.average_rating, bt.tag_id\r\n",
                "FROM BooksDB.dbo.books AS b \r\n",
                "INNER JOIN BooksDB.dbo.book_tags AS bt \r\n",
                "ON b.best_book_id = bt.goodreads_book_id\r\n",
                "WHERE bt.tag_id IN (32740, 23671,19757)\r\n",
                "ORDER BY b.average_rating DESC;"
            ],
            "metadata": {
                "azdata_cell_guid": "51ffeaaf-6dde-4906-95f3-eb8757babf27",
                "tags": [],
                "language": "sql"
            },
            "outputs": [
                {
                    "output_type": "display_data",
                    "data": {
                        "text/html": "(7 rows affected)"
                    },
                    "metadata": {}
                },
                {
                    "output_type": "display_data",
                    "data": {
                        "text/html": "Total execution time: 00:00:00.294"
                    },
                    "metadata": {}
                },
                {
                    "output_type": "execute_result",
                    "metadata": {},
                    "execution_count": 19,
                    "data": {
                        "application/vnd.dataresource+json": {
                            "schema": {
                                "fields": [
                                    {
                                        "name": "authors"
                                    },
                                    {
                                        "name": "title"
                                    },
                                    {
                                        "name": "average_rating"
                                    },
                                    {
                                        "name": "tag_id"
                                    }
                                ]
                            },
                            "data": [
                                {
                                    "0": "Ree Drummond",
                                    "1": "The Pioneer Woman Cooks: Food from My Frontier ",
                                    "2": "4.31",
                                    "3": "23671"
                                },
                                {
                                    "0": "Mark Waid, Alex Ross, Elliot S. Maggin",
                                    "1": "Kingdom Come",
                                    "2": "4.24",
                                    "3": "32740"
                                },
                                {
                                    "0": "Ree Drummond",
                                    "1": "The Pioneer Woman Cooks: Recipes from an Accidental Country Girl",
                                    "2": "4.18",
                                    "3": "23671"
                                },
                                {
                                    "0": "Darwyn Cooke, Dave Stewart, Jared K. Fletcher",
                                    "1": "DC: The New Frontier, Volume 1",
                                    "2": "4.17",
                                    "3": "32740"
                                },
                                {
                                    "0": "Marv Wolfman, George Pérez",
                                    "1": "Crisis on Infinite Earths",
                                    "2": "4.01",
                                    "3": "32740"
                                },
                                {
                                    "0": "Brian Azzarello, Cliff Chiang, Tony Akins, Dan Green, Matthew Wilson, Jared K. Fletcher",
                                    "1": "Wonder Woman, Volume 1: Blood",
                                    "2": "3.87",
                                    "3": "32740"
                                },
                                {
                                    "0": "Stephanie Kallos",
                                    "1": "Broken for You",
                                    "2": "3.8",
                                    "3": "19757"
                                }
                            ]
                        },
                        "text/html": [
                            "<table>",
                            "<tr><th>authors</th><th>title</th><th>average_rating</th><th>tag_id</th></tr>",
                            "<tr><td>Ree Drummond</td><td>The Pioneer Woman Cooks: Food from My Frontier </td><td>4.31</td><td>23671</td></tr>",
                            "<tr><td>Mark Waid, Alex Ross, Elliot S. Maggin</td><td>Kingdom Come</td><td>4.24</td><td>32740</td></tr>",
                            "<tr><td>Ree Drummond</td><td>The Pioneer Woman Cooks: Recipes from an Accidental Country Girl</td><td>4.18</td><td>23671</td></tr>",
                            "<tr><td>Darwyn Cooke, Dave Stewart, Jared K. Fletcher</td><td>DC: The New Frontier, Volume 1</td><td>4.17</td><td>32740</td></tr>",
                            "<tr><td>Marv Wolfman, George Pérez</td><td>Crisis on Infinite Earths</td><td>4.01</td><td>32740</td></tr>",
                            "<tr><td>Brian Azzarello, Cliff Chiang, Tony Akins, Dan Green, Matthew Wilson, Jared K. Fletcher</td><td>Wonder Woman, Volume 1: Blood</td><td>3.87</td><td>32740</td></tr>",
                            "<tr><td>Stephanie Kallos</td><td>Broken for You</td><td>3.8</td><td>19757</td></tr>",
                            "</table>"
                        ]
                    }
                }
            ],
            "execution_count": 19
        },
        {
            "cell_type": "markdown",
            "source": [
                "### **Record your thoughts about why you wrote the query the way you did.**"
            ],
            "metadata": {
                "azdata_cell_guid": "1e19a72c-1bca-446b-a0c7-a8efbc35dcf1"
            },
            "attachments": {}
        },
        {
            "cell_type": "markdown",
            "source": [
                "# Part 2: Choose Another Month\n",
                "\n",
                "Choose another month and plan at least 2 events / promotions and answer the following questions.\n",
                "\n",
                "Which month did you choose?  February\n",
                "\n",
                "What 2 events / promotions are you highlighting?\n",
                "\n",
                "> 1.  Black History Month\n",
                "\n",
                "> 2. President's Day"
            ],
            "metadata": {
                "azdata_cell_guid": "3eaf376d-9de3-4553-a9d0-9caf74ee3d6a"
            },
            "attachments": {}
        },
        {
            "cell_type": "markdown",
            "source": [
                "# Part 3: Summarize your Work\n",
                "\n",
                "For each event write at least one query that joins any two tables in the BooksDB to support your choice and record you thoughts as to why you used the paticlular query. At least one of your queries needs to include a HAVING clause."
            ],
            "metadata": {
                "azdata_cell_guid": "1ba1363a-4f02-4962-a95a-93b80c5926b1"
            },
            "attachments": {}
        },
        {
            "cell_type": "code",
            "source": [
                "-- Event 1 Query\r\n",
                "SELECT t.tag_name, COUNT(bt.goodreads_book_id) AS \"No of Books\"\r\n",
                "FROM BooksDb.dbo.book_tags AS bt\r\n",
                "INNER JOIN BooksDb.dbo.tags AS t \r\n",
                "ON bt.tag_id = t.tag_id\r\n",
                "GROUP BY t.tag_name \r\n",
                "HAVING t.tag_name LIKE '%black%history%'\r\n",
                "ORDER BY COUNT(bt.goodreads_book_id) DESC;\r\n",
                "\r\n",
                "--  Getting the no of books on Black History to increase the inventory for Feb month sale"
            ],
            "metadata": {
                "azdata_cell_guid": "f50d32ce-4cb2-4af2-acb1-607777a76cf8",
                "language": "sql",
                "tags": []
            },
            "outputs": [
                {
                    "output_type": "display_data",
                    "data": {
                        "text/html": "(3 rows affected)"
                    },
                    "metadata": {}
                },
                {
                    "output_type": "display_data",
                    "data": {
                        "text/html": "Total execution time: 00:00:00.621"
                    },
                    "metadata": {}
                },
                {
                    "output_type": "execute_result",
                    "metadata": {},
                    "execution_count": 36,
                    "data": {
                        "application/vnd.dataresource+json": {
                            "schema": {
                                "fields": [
                                    {
                                        "name": "tag_name"
                                    },
                                    {
                                        "name": "No of Books"
                                    }
                                ]
                            },
                            "data": [
                                {
                                    "0": "black-history",
                                    "1": "27"
                                },
                                {
                                    "0": "black-history-month",
                                    "1": "3"
                                },
                                {
                                    "0": "black-history-read",
                                    "1": "1"
                                }
                            ]
                        },
                        "text/html": [
                            "<table>",
                            "<tr><th>tag_name</th><th>No of Books</th></tr>",
                            "<tr><td>black-history</td><td>27</td></tr>",
                            "<tr><td>black-history-month</td><td>3</td></tr>",
                            "<tr><td>black-history-read</td><td>1</td></tr>",
                            "</table>"
                        ]
                    }
                }
            ],
            "execution_count": 36
        },
        {
            "cell_type": "code",
            "source": [
                ""
            ],
            "metadata": {
                "azdata_cell_guid": "5606f7f2-c46b-42d3-ac64-7ae21c3394f8",
                "language": "sql"
            },
            "outputs": [],
            "execution_count": null
        },
        {
            "cell_type": "markdown",
            "source": [
                "### **Summary of event 1:**\n",
                "\n",
                "Double Click to edit."
            ],
            "metadata": {
                "azdata_cell_guid": "3bc72d4c-077b-42d3-9528-9aff8e7b6cf3"
            },
            "attachments": {}
        },
        {
            "cell_type": "code",
            "source": [
                "-- Event 2 Query\r\n",
                "SELECT t.tag_name, COUNT(bt.goodreads_book_id) AS \"No of Books\"\r\n",
                "FROM BooksDb.dbo.book_tags AS bt\r\n",
                "INNER JOIN BooksDb.dbo.tags AS t \r\n",
                "ON bt.tag_id = t.tag_id\r\n",
                "GROUP BY t.tag_name \r\n",
                "HAVING t.tag_name LIKE '%president%'\r\n",
                "ORDER BY COUNT(bt.goodreads_book_id)  DESC;\r\n",
                "\r\n",
                "--  Getting the no of books base on President to increase the inventory for Feb month sale"
            ],
            "metadata": {
                "azdata_cell_guid": "dca0a98f-065f-4b0e-9d93-fcb01cad668c",
                "language": "sql"
            },
            "outputs": [
                {
                    "output_type": "display_data",
                    "data": {
                        "text/html": "(23 rows affected)"
                    },
                    "metadata": {}
                },
                {
                    "output_type": "display_data",
                    "data": {
                        "text/html": "Total execution time: 00:00:00.348"
                    },
                    "metadata": {}
                },
                {
                    "output_type": "execute_result",
                    "metadata": {},
                    "execution_count": 35,
                    "data": {
                        "application/vnd.dataresource+json": {
                            "schema": {
                                "fields": [
                                    {
                                        "name": "tag_name"
                                    },
                                    {
                                        "name": "No of Books"
                                    }
                                ]
                            },
                            "data": [
                                {
                                    "0": "presidents",
                                    "1": "53"
                                },
                                {
                                    "0": "us-presidents",
                                    "1": "32"
                                },
                                {
                                    "0": "presidential",
                                    "1": "25"
                                },
                                {
                                    "0": "american-presidents",
                                    "1": "24"
                                },
                                {
                                    "0": "presidential-biographies",
                                    "1": "24"
                                },
                                {
                                    "0": "president",
                                    "1": "22"
                                },
                                {
                                    "0": "presidential-bios",
                                    "1": "22"
                                },
                                {
                                    "0": "presidential-biography",
                                    "1": "20"
                                },
                                {
                                    "0": "u-s-presidents",
                                    "1": "19"
                                },
                                {
                                    "0": "presidential-history",
                                    "1": "19"
                                },
                                {
                                    "0": "president-biographies",
                                    "1": "4"
                                },
                                {
                                    "0": "presidential-challenge",
                                    "1": "3"
                                },
                                {
                                    "0": "amercian-history-presidents",
                                    "1": "1"
                                },
                                {
                                    "0": "vice-presidential",
                                    "1": "1"
                                },
                                {
                                    "0": "assassination-of-president",
                                    "1": "1"
                                },
                                {
                                    "0": "the-presidents",
                                    "1": "1"
                                },
                                {
                                    "0": "2008-us-presidential-campaign",
                                    "1": "1"
                                },
                                {
                                    "0": "american-president",
                                    "1": "1"
                                },
                                {
                                    "0": "kidnapping-president-s-children",
                                    "1": "1"
                                },
                                {
                                    "0": "2008-presidential-campaign",
                                    "1": "1"
                                },
                                {
                                    "0": "presidential-election",
                                    "1": "1"
                                },
                                {
                                    "0": "presidential-series",
                                    "1": "1"
                                },
                                {
                                    "0": "to-read-presidents",
                                    "1": "1"
                                }
                            ]
                        },
                        "text/html": [
                            "<table>",
                            "<tr><th>tag_name</th><th>No of Books</th></tr>",
                            "<tr><td>presidents</td><td>53</td></tr>",
                            "<tr><td>us-presidents</td><td>32</td></tr>",
                            "<tr><td>presidential</td><td>25</td></tr>",
                            "<tr><td>american-presidents</td><td>24</td></tr>",
                            "<tr><td>presidential-biographies</td><td>24</td></tr>",
                            "<tr><td>president</td><td>22</td></tr>",
                            "<tr><td>presidential-bios</td><td>22</td></tr>",
                            "<tr><td>presidential-biography</td><td>20</td></tr>",
                            "<tr><td>u-s-presidents</td><td>19</td></tr>",
                            "<tr><td>presidential-history</td><td>19</td></tr>",
                            "<tr><td>president-biographies</td><td>4</td></tr>",
                            "<tr><td>presidential-challenge</td><td>3</td></tr>",
                            "<tr><td>amercian-history-presidents</td><td>1</td></tr>",
                            "<tr><td>vice-presidential</td><td>1</td></tr>",
                            "<tr><td>assassination-of-president</td><td>1</td></tr>",
                            "<tr><td>the-presidents</td><td>1</td></tr>",
                            "<tr><td>2008-us-presidential-campaign</td><td>1</td></tr>",
                            "<tr><td>american-president</td><td>1</td></tr>",
                            "<tr><td>kidnapping-president-s-children</td><td>1</td></tr>",
                            "<tr><td>2008-presidential-campaign</td><td>1</td></tr>",
                            "<tr><td>presidential-election</td><td>1</td></tr>",
                            "<tr><td>presidential-series</td><td>1</td></tr>",
                            "<tr><td>to-read-presidents</td><td>1</td></tr>",
                            "</table>"
                        ]
                    }
                }
            ],
            "execution_count": 35
        },
        {
            "cell_type": "code",
            "source": [
                ""
            ],
            "metadata": {
                "azdata_cell_guid": "3aaae3a8-eff7-4b37-8970-2d913a67239b",
                "language": "sql"
            },
            "outputs": [],
            "execution_count": null
        },
        {
            "cell_type": "markdown",
            "source": [
                "### **Summary of event 2:**\n",
                "\n",
                "Double Click to edit."
            ],
            "metadata": {
                "azdata_cell_guid": "99d518dc-cd8b-42d6-9a9d-708771c9aa99"
            },
            "attachments": {}
        }
    ]
}